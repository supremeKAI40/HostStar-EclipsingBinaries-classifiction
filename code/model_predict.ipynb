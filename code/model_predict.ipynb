{
 "cells": [
  {
   "cell_type": "code",
   "execution_count": null,
   "metadata": {},
   "outputs": [],
   "source": [
    "import tensorflow as tf\n",
    "from tensorflow import keras\n",
    "from tensorflow.keras import layers\n",
    "import numpy as np\n",
    "import matplotlib.pyplot as plt\n",
    "import pandas as pd\n",
    "import os\n",
    "from scipy.stats import kurtosis , skew\n",
    "import pywt"
   ]
  },
  {
   "cell_type": "code",
   "execution_count": null,
   "metadata": {},
   "outputs": [],
   "source": [
    "dfSample=pd.read_csv(\"sample_data_for_collab\")\n",
    "dfSample.shape"
   ]
  },
  {
   "cell_type": "code",
   "execution_count": null,
   "metadata": {},
   "outputs": [],
   "source": [
    "#sample operation to extract lc for wavelet transformation, needs lc data for prediction in LSTM\n",
    "array=np.array(dfSample['lc'][0][1:-1].split(\",\"),dtype=np.float64)\n",
    "print(array)"
   ]
  },
  {
   "cell_type": "code",
   "execution_count": null,
   "metadata": {},
   "outputs": [],
   "source": [
    "np.max(array)"
   ]
  },
  {
   "cell_type": "code",
   "execution_count": null,
   "metadata": {},
   "outputs": [],
   "source": [
    "###Add data in sample format###\n",
    "###The data preparation step is done####\n",
    "df = pd.read_csv(\"sample_data_for_collab\")\n",
    "\n",
    "##extract light curve flux for normalisation\n",
    "X = np.array(dfSample['lc'][0][1:-1].split(\",\"),dtype=np.float64)\n",
    "##dummy not needed for test\n",
    "y = df['class']\n",
    "\n",
    "x = df.drop(columns=['class','lc','Unnamed: 0'])\n",
    "\n",
    "#Wavelet Transform\n",
    "\n",
    "xl = X\n",
    "xl = xl/np.max([np.max(i) for i in xl]) #xl.shape = (1591, 12901)\n",
    "xl,q = pywt.dwt(xl,'sym5')\n",
    "xl = np.expand_dims(xl, -1) #xl.shape = (1591, 6455, 1)\n",
    "#New LightCurves have 6455 data points only.\n",
    "\n",
    "\n",
    "#Normalizing x \n",
    "\n",
    "x = x/x.max()\n",
    "\n",
    "model1=keras.models.load_model(\"model1.h5\")\n",
    "\n",
    "model1.summary()\n",
    "\n",
    "prediction=model1([x,xl],training=False)"
   ]
  }
 ],
 "metadata": {
  "language_info": {
   "name": "python"
  },
  "orig_nbformat": 4
 },
 "nbformat": 4,
 "nbformat_minor": 2
}
